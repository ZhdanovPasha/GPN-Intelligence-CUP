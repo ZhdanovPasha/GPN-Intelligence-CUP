{
 "cells": [
  {
   "cell_type": "code",
   "execution_count": 1,
   "metadata": {},
   "outputs": [],
   "source": [
    "import numpy as np\n",
    "import pandas as pd\n",
    "import matplotlib.pyplot as plt\n",
    "from sklearn import metrics\n",
    "\n",
    "plt.style.use('ggplot')\n",
    "%matplotlib inline"
   ]
  },
  {
   "cell_type": "code",
   "execution_count": 2,
   "metadata": {},
   "outputs": [],
   "source": [
    "data = pd.read_csv(\"train.csv\")\n",
    "data.head()\n",
    "data.tail()\n",
    "n = len(data['card_id'])"
   ]
  },
  {
   "cell_type": "code",
   "execution_count": 3,
   "metadata": {},
   "outputs": [
    {
     "data": {
      "text/html": [
       "<div>\n",
       "<style scoped>\n",
       "    .dataframe tbody tr th:only-of-type {\n",
       "        vertical-align: middle;\n",
       "    }\n",
       "\n",
       "    .dataframe tbody tr th {\n",
       "        vertical-align: top;\n",
       "    }\n",
       "\n",
       "    .dataframe thead th {\n",
       "        text-align: right;\n",
       "    }\n",
       "</style>\n",
       "<table border=\"1\" class=\"dataframe\">\n",
       "  <thead>\n",
       "    <tr style=\"text-align: right;\">\n",
       "      <th></th>\n",
       "      <th>amount</th>\n",
       "      <th>site_type</th>\n",
       "      <th>month</th>\n",
       "      <th>y</th>\n",
       "    </tr>\n",
       "  </thead>\n",
       "  <tbody>\n",
       "    <tr>\n",
       "      <th>count</th>\n",
       "      <td>424401.000000</td>\n",
       "      <td>424401.000000</td>\n",
       "      <td>424401.000000</td>\n",
       "      <td>424401.000000</td>\n",
       "    </tr>\n",
       "    <tr>\n",
       "      <th>mean</th>\n",
       "      <td>1351.113160</td>\n",
       "      <td>0.227372</td>\n",
       "      <td>1.457977</td>\n",
       "      <td>0.801699</td>\n",
       "    </tr>\n",
       "    <tr>\n",
       "      <th>std</th>\n",
       "      <td>1921.271913</td>\n",
       "      <td>0.419135</td>\n",
       "      <td>0.498232</td>\n",
       "      <td>0.398720</td>\n",
       "    </tr>\n",
       "    <tr>\n",
       "      <th>min</th>\n",
       "      <td>0.177740</td>\n",
       "      <td>0.000000</td>\n",
       "      <td>1.000000</td>\n",
       "      <td>0.000000</td>\n",
       "    </tr>\n",
       "    <tr>\n",
       "      <th>25%</th>\n",
       "      <td>479.720260</td>\n",
       "      <td>0.000000</td>\n",
       "      <td>1.000000</td>\n",
       "      <td>1.000000</td>\n",
       "    </tr>\n",
       "    <tr>\n",
       "      <th>50%</th>\n",
       "      <td>710.960000</td>\n",
       "      <td>0.000000</td>\n",
       "      <td>1.000000</td>\n",
       "      <td>1.000000</td>\n",
       "    </tr>\n",
       "    <tr>\n",
       "      <th>75%</th>\n",
       "      <td>1160.642200</td>\n",
       "      <td>0.000000</td>\n",
       "      <td>2.000000</td>\n",
       "      <td>1.000000</td>\n",
       "    </tr>\n",
       "    <tr>\n",
       "      <th>max</th>\n",
       "      <td>177740.000000</td>\n",
       "      <td>1.000000</td>\n",
       "      <td>2.000000</td>\n",
       "      <td>1.000000</td>\n",
       "    </tr>\n",
       "  </tbody>\n",
       "</table>\n",
       "</div>"
      ],
      "text/plain": [
       "              amount      site_type          month              y\n",
       "count  424401.000000  424401.000000  424401.000000  424401.000000\n",
       "mean     1351.113160       0.227372       1.457977       0.801699\n",
       "std      1921.271913       0.419135       0.498232       0.398720\n",
       "min         0.177740       0.000000       1.000000       0.000000\n",
       "25%       479.720260       0.000000       1.000000       1.000000\n",
       "50%       710.960000       0.000000       1.000000       1.000000\n",
       "75%      1160.642200       0.000000       2.000000       1.000000\n",
       "max    177740.000000       1.000000       2.000000       1.000000"
      ]
     },
     "execution_count": 3,
     "metadata": {},
     "output_type": "execute_result"
    }
   ],
   "source": [
    "data.describe()"
   ]
  },
  {
   "cell_type": "code",
   "execution_count": 4,
   "metadata": {},
   "outputs": [
    {
     "data": {
      "text/plain": [
       "card_id        424401\n",
       "company_id     424401\n",
       "fuel_id        424401\n",
       "devision_id    424401\n",
       "site_id        424401\n",
       "region_id      424401\n",
       "amount         424401\n",
       "site_type      424401\n",
       "month          424401\n",
       "lat            424401\n",
       "lon            424401\n",
       "y              424401\n",
       "dtype: int64"
      ]
     },
     "execution_count": 4,
     "metadata": {},
     "output_type": "execute_result"
    }
   ],
   "source": [
    "'''check empty cells in table'''\n",
    "data.count(axis = 0)"
   ]
  },
  {
   "cell_type": "code",
   "execution_count": 5,
   "metadata": {},
   "outputs": [
    {
     "name": "stdout",
     "output_type": "stream",
     "text": [
      "Index(['fuel_id_219a923c8bc97a95585464d6f4b62b6165cc132a',\n",
      "       'fuel_id_4e8e035f56691077c68b3eab775de10b720e5ffe',\n",
      "       'fuel_id_51290d0d7dc09191bab25e59a6575c246336667b',\n",
      "       'fuel_id_684a604b71f50a3c4739c1da1a514455d8256d00',\n",
      "       'fuel_id_9b9b13c1c5ac5dbb27acdbad9a860e3874d380ed',\n",
      "       'fuel_id_ada0e5d61f7f84e08cac1087c7112ddc0a082444',\n",
      "       'fuel_id_afc06e4e2f1ae009c025834fd956c0d2848ef615',\n",
      "       'fuel_id_bd5b689b05dd83fa60590b93b4b0a0428a0fc43c',\n",
      "       'fuel_id_e0f5182f9a3115e0488a74152f9cb66cbbe38224',\n",
      "       'devision_id_1917d21be2460e969a9f584e23ac7fb4865c6a84',\n",
      "       'devision_id_3b5d035402b5d5d1995cddb43d58128383d68f66',\n",
      "       'devision_id_53f32719393e7ad9024f9764a4b84f5bcfb4b48a',\n",
      "       'devision_id_798edca8bc5f55d752d9f0c5f3f33c9bcda1d0bf',\n",
      "       'devision_id_9646360c04da5b8ea896bc818a02a23c704caa77',\n",
      "       'devision_id_bc70a7d61597cfe9af3a2af904f2ec292c3133ec',\n",
      "       'devision_id_c754d9697c0cb92fafd548756d4c954c20a3149b',\n",
      "       'devision_id_caee6db7873c16b36bdbbf3794cdcc35d89f4512',\n",
      "       'devision_id_eccda6f794a5be5803fed5d8513fa5fa19ccd3ef',\n",
      "       'devision_id_ef972f02930169a9ce1236ea538662dc207884fe'],\n",
      "      dtype='object')\n"
     ]
    }
   ],
   "source": [
    "'''create vectors, which based on features'''\n",
    "binary_col = ['site_type', 'month']\n",
    "nonbinary_col = ['fuel_id', 'devision_id']\n",
    "data_nonbinary = pd.get_dummies(data[nonbinary_col])\n",
    "print(data_nonbinary.columns)"
   ]
  },
  {
   "cell_type": "code",
   "execution_count": 6,
   "metadata": {},
   "outputs": [],
   "source": [
    "'''normalization of data_numerical'''\n",
    "data_numerical = data[['amount']]\n",
    "data_numerical = (data_numerical-data_numerical.mean())/data_numerical.std()\n",
    "answers = data['y']\n",
    "bin_data = data[binary_col]\n",
    "nonbin_data = data[nonbinary_col]"
   ]
  },
  {
   "cell_type": "code",
   "execution_count": 7,
   "metadata": {},
   "outputs": [],
   "source": [
    "'''parse lat and long'''\n",
    "coord = ['lat', 'lon']\n",
    "coord_data = data[coord]\n",
    "coord_data = coord_data.apply(lambda x: pd.to_numeric(x.astype(str).str.replace(',', '.'), errors='coerce'))"
   ]
  },
  {
   "cell_type": "code",
   "execution_count": 8,
   "metadata": {},
   "outputs": [],
   "source": [
    "'''create result table'''\n",
    "df = pd.concat((data_nonbinary, bin_data, data_numerical, coord_data, answers), axis = 1 )\n",
    "df = pd.DataFrame(df, dtype=float)"
   ]
  },
  {
   "cell_type": "code",
   "execution_count": 9,
   "metadata": {},
   "outputs": [
    {
     "name": "stdout",
     "output_type": "stream",
     "text": [
      "Index(['fuel_id_219a923c8bc97a95585464d6f4b62b6165cc132a',\n",
      "       'fuel_id_4e8e035f56691077c68b3eab775de10b720e5ffe',\n",
      "       'fuel_id_51290d0d7dc09191bab25e59a6575c246336667b',\n",
      "       'fuel_id_684a604b71f50a3c4739c1da1a514455d8256d00',\n",
      "       'fuel_id_9b9b13c1c5ac5dbb27acdbad9a860e3874d380ed',\n",
      "       'fuel_id_ada0e5d61f7f84e08cac1087c7112ddc0a082444',\n",
      "       'fuel_id_afc06e4e2f1ae009c025834fd956c0d2848ef615',\n",
      "       'fuel_id_bd5b689b05dd83fa60590b93b4b0a0428a0fc43c',\n",
      "       'fuel_id_e0f5182f9a3115e0488a74152f9cb66cbbe38224',\n",
      "       'devision_id_1917d21be2460e969a9f584e23ac7fb4865c6a84',\n",
      "       'devision_id_3b5d035402b5d5d1995cddb43d58128383d68f66',\n",
      "       'devision_id_53f32719393e7ad9024f9764a4b84f5bcfb4b48a',\n",
      "       'devision_id_798edca8bc5f55d752d9f0c5f3f33c9bcda1d0bf',\n",
      "       'devision_id_9646360c04da5b8ea896bc818a02a23c704caa77',\n",
      "       'devision_id_bc70a7d61597cfe9af3a2af904f2ec292c3133ec',\n",
      "       'devision_id_c754d9697c0cb92fafd548756d4c954c20a3149b',\n",
      "       'devision_id_caee6db7873c16b36bdbbf3794cdcc35d89f4512',\n",
      "       'devision_id_eccda6f794a5be5803fed5d8513fa5fa19ccd3ef',\n",
      "       'devision_id_ef972f02930169a9ce1236ea538662dc207884fe', 'site_type',\n",
      "       'month', 'amount', 'lat', 'lon'],\n",
      "      dtype='object')\n",
      "24\n"
     ]
    }
   ],
   "source": [
    "'''create X and y tables'''\n",
    "X = df.drop(('y'), axis = 1)\n",
    "y = df['y']\n",
    "features_name = X.columns\n",
    "print(features_name)\n",
    "print(len(list(features_name)))"
   ]
  },
  {
   "cell_type": "code",
   "execution_count": 10,
   "metadata": {},
   "outputs": [
    {
     "data": {
      "text/html": [
       "<div>\n",
       "<style scoped>\n",
       "    .dataframe tbody tr th:only-of-type {\n",
       "        vertical-align: middle;\n",
       "    }\n",
       "\n",
       "    .dataframe tbody tr th {\n",
       "        vertical-align: top;\n",
       "    }\n",
       "\n",
       "    .dataframe thead th {\n",
       "        text-align: right;\n",
       "    }\n",
       "</style>\n",
       "<table border=\"1\" class=\"dataframe\">\n",
       "  <thead>\n",
       "    <tr style=\"text-align: right;\">\n",
       "      <th></th>\n",
       "      <th>fuel_id_219a923c8bc97a95585464d6f4b62b6165cc132a</th>\n",
       "      <th>fuel_id_4e8e035f56691077c68b3eab775de10b720e5ffe</th>\n",
       "      <th>fuel_id_51290d0d7dc09191bab25e59a6575c246336667b</th>\n",
       "      <th>fuel_id_684a604b71f50a3c4739c1da1a514455d8256d00</th>\n",
       "      <th>fuel_id_9b9b13c1c5ac5dbb27acdbad9a860e3874d380ed</th>\n",
       "      <th>fuel_id_ada0e5d61f7f84e08cac1087c7112ddc0a082444</th>\n",
       "      <th>fuel_id_afc06e4e2f1ae009c025834fd956c0d2848ef615</th>\n",
       "      <th>fuel_id_bd5b689b05dd83fa60590b93b4b0a0428a0fc43c</th>\n",
       "      <th>fuel_id_e0f5182f9a3115e0488a74152f9cb66cbbe38224</th>\n",
       "      <th>devision_id_1917d21be2460e969a9f584e23ac7fb4865c6a84</th>\n",
       "      <th>...</th>\n",
       "      <th>devision_id_c754d9697c0cb92fafd548756d4c954c20a3149b</th>\n",
       "      <th>devision_id_caee6db7873c16b36bdbbf3794cdcc35d89f4512</th>\n",
       "      <th>devision_id_eccda6f794a5be5803fed5d8513fa5fa19ccd3ef</th>\n",
       "      <th>devision_id_ef972f02930169a9ce1236ea538662dc207884fe</th>\n",
       "      <th>site_type</th>\n",
       "      <th>month</th>\n",
       "      <th>amount</th>\n",
       "      <th>lat</th>\n",
       "      <th>lon</th>\n",
       "      <th>y</th>\n",
       "    </tr>\n",
       "  </thead>\n",
       "  <tbody>\n",
       "    <tr>\n",
       "      <th>count</th>\n",
       "      <td>424401.000000</td>\n",
       "      <td>424401.000000</td>\n",
       "      <td>424401.000000</td>\n",
       "      <td>424401.000000</td>\n",
       "      <td>424401.000000</td>\n",
       "      <td>424401.000000</td>\n",
       "      <td>424401.000000</td>\n",
       "      <td>424401.000000</td>\n",
       "      <td>424401.000000</td>\n",
       "      <td>424401.000000</td>\n",
       "      <td>...</td>\n",
       "      <td>424401.000000</td>\n",
       "      <td>424401.000000</td>\n",
       "      <td>424401.000000</td>\n",
       "      <td>424401.000000</td>\n",
       "      <td>424401.000000</td>\n",
       "      <td>424401.000000</td>\n",
       "      <td>4.244010e+05</td>\n",
       "      <td>424401.000000</td>\n",
       "      <td>424401.000000</td>\n",
       "      <td>424401.000000</td>\n",
       "    </tr>\n",
       "    <tr>\n",
       "      <th>mean</th>\n",
       "      <td>0.003174</td>\n",
       "      <td>0.000049</td>\n",
       "      <td>0.039793</td>\n",
       "      <td>0.000054</td>\n",
       "      <td>0.004943</td>\n",
       "      <td>0.000603</td>\n",
       "      <td>0.167014</td>\n",
       "      <td>0.347669</td>\n",
       "      <td>0.436700</td>\n",
       "      <td>0.146640</td>\n",
       "      <td>...</td>\n",
       "      <td>0.033633</td>\n",
       "      <td>0.053391</td>\n",
       "      <td>0.024121</td>\n",
       "      <td>0.064599</td>\n",
       "      <td>0.227372</td>\n",
       "      <td>1.457977</td>\n",
       "      <td>-6.549568e-17</td>\n",
       "      <td>56.610133</td>\n",
       "      <td>55.375395</td>\n",
       "      <td>0.801699</td>\n",
       "    </tr>\n",
       "    <tr>\n",
       "      <th>std</th>\n",
       "      <td>0.056248</td>\n",
       "      <td>0.007034</td>\n",
       "      <td>0.195472</td>\n",
       "      <td>0.007361</td>\n",
       "      <td>0.070136</td>\n",
       "      <td>0.024553</td>\n",
       "      <td>0.372989</td>\n",
       "      <td>0.476231</td>\n",
       "      <td>0.495978</td>\n",
       "      <td>0.353747</td>\n",
       "      <td>...</td>\n",
       "      <td>0.180284</td>\n",
       "      <td>0.224811</td>\n",
       "      <td>0.153425</td>\n",
       "      <td>0.245818</td>\n",
       "      <td>0.419135</td>\n",
       "      <td>0.498232</td>\n",
       "      <td>1.000000e+00</td>\n",
       "      <td>2.861999</td>\n",
       "      <td>22.567294</td>\n",
       "      <td>0.398720</td>\n",
       "    </tr>\n",
       "    <tr>\n",
       "      <th>min</th>\n",
       "      <td>0.000000</td>\n",
       "      <td>0.000000</td>\n",
       "      <td>0.000000</td>\n",
       "      <td>0.000000</td>\n",
       "      <td>0.000000</td>\n",
       "      <td>0.000000</td>\n",
       "      <td>0.000000</td>\n",
       "      <td>0.000000</td>\n",
       "      <td>0.000000</td>\n",
       "      <td>0.000000</td>\n",
       "      <td>...</td>\n",
       "      <td>0.000000</td>\n",
       "      <td>0.000000</td>\n",
       "      <td>0.000000</td>\n",
       "      <td>0.000000</td>\n",
       "      <td>0.000000</td>\n",
       "      <td>1.000000</td>\n",
       "      <td>-7.031464e-01</td>\n",
       "      <td>43.078190</td>\n",
       "      <td>20.474033</td>\n",
       "      <td>0.000000</td>\n",
       "    </tr>\n",
       "    <tr>\n",
       "      <th>25%</th>\n",
       "      <td>0.000000</td>\n",
       "      <td>0.000000</td>\n",
       "      <td>0.000000</td>\n",
       "      <td>0.000000</td>\n",
       "      <td>0.000000</td>\n",
       "      <td>0.000000</td>\n",
       "      <td>0.000000</td>\n",
       "      <td>0.000000</td>\n",
       "      <td>0.000000</td>\n",
       "      <td>0.000000</td>\n",
       "      <td>...</td>\n",
       "      <td>0.000000</td>\n",
       "      <td>0.000000</td>\n",
       "      <td>0.000000</td>\n",
       "      <td>0.000000</td>\n",
       "      <td>0.000000</td>\n",
       "      <td>1.000000</td>\n",
       "      <td>-4.535500e-01</td>\n",
       "      <td>55.058334</td>\n",
       "      <td>36.190900</td>\n",
       "      <td>1.000000</td>\n",
       "    </tr>\n",
       "    <tr>\n",
       "      <th>50%</th>\n",
       "      <td>0.000000</td>\n",
       "      <td>0.000000</td>\n",
       "      <td>0.000000</td>\n",
       "      <td>0.000000</td>\n",
       "      <td>0.000000</td>\n",
       "      <td>0.000000</td>\n",
       "      <td>0.000000</td>\n",
       "      <td>0.000000</td>\n",
       "      <td>0.000000</td>\n",
       "      <td>0.000000</td>\n",
       "      <td>...</td>\n",
       "      <td>0.000000</td>\n",
       "      <td>0.000000</td>\n",
       "      <td>0.000000</td>\n",
       "      <td>0.000000</td>\n",
       "      <td>0.000000</td>\n",
       "      <td>1.000000</td>\n",
       "      <td>-3.331924e-01</td>\n",
       "      <td>56.285972</td>\n",
       "      <td>43.931179</td>\n",
       "      <td>1.000000</td>\n",
       "    </tr>\n",
       "    <tr>\n",
       "      <th>75%</th>\n",
       "      <td>0.000000</td>\n",
       "      <td>0.000000</td>\n",
       "      <td>0.000000</td>\n",
       "      <td>0.000000</td>\n",
       "      <td>0.000000</td>\n",
       "      <td>0.000000</td>\n",
       "      <td>0.000000</td>\n",
       "      <td>1.000000</td>\n",
       "      <td>1.000000</td>\n",
       "      <td>0.000000</td>\n",
       "      <td>...</td>\n",
       "      <td>0.000000</td>\n",
       "      <td>0.000000</td>\n",
       "      <td>0.000000</td>\n",
       "      <td>0.000000</td>\n",
       "      <td>0.000000</td>\n",
       "      <td>2.000000</td>\n",
       "      <td>-9.913795e-02</td>\n",
       "      <td>59.104875</td>\n",
       "      <td>82.879993</td>\n",
       "      <td>1.000000</td>\n",
       "    </tr>\n",
       "    <tr>\n",
       "      <th>max</th>\n",
       "      <td>1.000000</td>\n",
       "      <td>1.000000</td>\n",
       "      <td>1.000000</td>\n",
       "      <td>1.000000</td>\n",
       "      <td>1.000000</td>\n",
       "      <td>1.000000</td>\n",
       "      <td>1.000000</td>\n",
       "      <td>1.000000</td>\n",
       "      <td>1.000000</td>\n",
       "      <td>1.000000</td>\n",
       "      <td>...</td>\n",
       "      <td>1.000000</td>\n",
       "      <td>1.000000</td>\n",
       "      <td>1.000000</td>\n",
       "      <td>1.000000</td>\n",
       "      <td>1.000000</td>\n",
       "      <td>2.000000</td>\n",
       "      <td>9.180839e+01</td>\n",
       "      <td>68.959510</td>\n",
       "      <td>136.255260</td>\n",
       "      <td>1.000000</td>\n",
       "    </tr>\n",
       "  </tbody>\n",
       "</table>\n",
       "<p>8 rows × 25 columns</p>\n",
       "</div>"
      ],
      "text/plain": [
       "       fuel_id_219a923c8bc97a95585464d6f4b62b6165cc132a  \\\n",
       "count                                     424401.000000   \n",
       "mean                                           0.003174   \n",
       "std                                            0.056248   \n",
       "min                                            0.000000   \n",
       "25%                                            0.000000   \n",
       "50%                                            0.000000   \n",
       "75%                                            0.000000   \n",
       "max                                            1.000000   \n",
       "\n",
       "       fuel_id_4e8e035f56691077c68b3eab775de10b720e5ffe  \\\n",
       "count                                     424401.000000   \n",
       "mean                                           0.000049   \n",
       "std                                            0.007034   \n",
       "min                                            0.000000   \n",
       "25%                                            0.000000   \n",
       "50%                                            0.000000   \n",
       "75%                                            0.000000   \n",
       "max                                            1.000000   \n",
       "\n",
       "       fuel_id_51290d0d7dc09191bab25e59a6575c246336667b  \\\n",
       "count                                     424401.000000   \n",
       "mean                                           0.039793   \n",
       "std                                            0.195472   \n",
       "min                                            0.000000   \n",
       "25%                                            0.000000   \n",
       "50%                                            0.000000   \n",
       "75%                                            0.000000   \n",
       "max                                            1.000000   \n",
       "\n",
       "       fuel_id_684a604b71f50a3c4739c1da1a514455d8256d00  \\\n",
       "count                                     424401.000000   \n",
       "mean                                           0.000054   \n",
       "std                                            0.007361   \n",
       "min                                            0.000000   \n",
       "25%                                            0.000000   \n",
       "50%                                            0.000000   \n",
       "75%                                            0.000000   \n",
       "max                                            1.000000   \n",
       "\n",
       "       fuel_id_9b9b13c1c5ac5dbb27acdbad9a860e3874d380ed  \\\n",
       "count                                     424401.000000   \n",
       "mean                                           0.004943   \n",
       "std                                            0.070136   \n",
       "min                                            0.000000   \n",
       "25%                                            0.000000   \n",
       "50%                                            0.000000   \n",
       "75%                                            0.000000   \n",
       "max                                            1.000000   \n",
       "\n",
       "       fuel_id_ada0e5d61f7f84e08cac1087c7112ddc0a082444  \\\n",
       "count                                     424401.000000   \n",
       "mean                                           0.000603   \n",
       "std                                            0.024553   \n",
       "min                                            0.000000   \n",
       "25%                                            0.000000   \n",
       "50%                                            0.000000   \n",
       "75%                                            0.000000   \n",
       "max                                            1.000000   \n",
       "\n",
       "       fuel_id_afc06e4e2f1ae009c025834fd956c0d2848ef615  \\\n",
       "count                                     424401.000000   \n",
       "mean                                           0.167014   \n",
       "std                                            0.372989   \n",
       "min                                            0.000000   \n",
       "25%                                            0.000000   \n",
       "50%                                            0.000000   \n",
       "75%                                            0.000000   \n",
       "max                                            1.000000   \n",
       "\n",
       "       fuel_id_bd5b689b05dd83fa60590b93b4b0a0428a0fc43c  \\\n",
       "count                                     424401.000000   \n",
       "mean                                           0.347669   \n",
       "std                                            0.476231   \n",
       "min                                            0.000000   \n",
       "25%                                            0.000000   \n",
       "50%                                            0.000000   \n",
       "75%                                            1.000000   \n",
       "max                                            1.000000   \n",
       "\n",
       "       fuel_id_e0f5182f9a3115e0488a74152f9cb66cbbe38224  \\\n",
       "count                                     424401.000000   \n",
       "mean                                           0.436700   \n",
       "std                                            0.495978   \n",
       "min                                            0.000000   \n",
       "25%                                            0.000000   \n",
       "50%                                            0.000000   \n",
       "75%                                            1.000000   \n",
       "max                                            1.000000   \n",
       "\n",
       "       devision_id_1917d21be2460e969a9f584e23ac7fb4865c6a84      ...        \\\n",
       "count                                      424401.000000         ...         \n",
       "mean                                            0.146640         ...         \n",
       "std                                             0.353747         ...         \n",
       "min                                             0.000000         ...         \n",
       "25%                                             0.000000         ...         \n",
       "50%                                             0.000000         ...         \n",
       "75%                                             0.000000         ...         \n",
       "max                                             1.000000         ...         \n",
       "\n",
       "       devision_id_c754d9697c0cb92fafd548756d4c954c20a3149b  \\\n",
       "count                                      424401.000000      \n",
       "mean                                            0.033633      \n",
       "std                                             0.180284      \n",
       "min                                             0.000000      \n",
       "25%                                             0.000000      \n",
       "50%                                             0.000000      \n",
       "75%                                             0.000000      \n",
       "max                                             1.000000      \n",
       "\n",
       "       devision_id_caee6db7873c16b36bdbbf3794cdcc35d89f4512  \\\n",
       "count                                      424401.000000      \n",
       "mean                                            0.053391      \n",
       "std                                             0.224811      \n",
       "min                                             0.000000      \n",
       "25%                                             0.000000      \n",
       "50%                                             0.000000      \n",
       "75%                                             0.000000      \n",
       "max                                             1.000000      \n",
       "\n",
       "       devision_id_eccda6f794a5be5803fed5d8513fa5fa19ccd3ef  \\\n",
       "count                                      424401.000000      \n",
       "mean                                            0.024121      \n",
       "std                                             0.153425      \n",
       "min                                             0.000000      \n",
       "25%                                             0.000000      \n",
       "50%                                             0.000000      \n",
       "75%                                             0.000000      \n",
       "max                                             1.000000      \n",
       "\n",
       "       devision_id_ef972f02930169a9ce1236ea538662dc207884fe      site_type  \\\n",
       "count                                      424401.000000     424401.000000   \n",
       "mean                                            0.064599          0.227372   \n",
       "std                                             0.245818          0.419135   \n",
       "min                                             0.000000          0.000000   \n",
       "25%                                             0.000000          0.000000   \n",
       "50%                                             0.000000          0.000000   \n",
       "75%                                             0.000000          0.000000   \n",
       "max                                             1.000000          1.000000   \n",
       "\n",
       "               month        amount            lat            lon  \\\n",
       "count  424401.000000  4.244010e+05  424401.000000  424401.000000   \n",
       "mean        1.457977 -6.549568e-17      56.610133      55.375395   \n",
       "std         0.498232  1.000000e+00       2.861999      22.567294   \n",
       "min         1.000000 -7.031464e-01      43.078190      20.474033   \n",
       "25%         1.000000 -4.535500e-01      55.058334      36.190900   \n",
       "50%         1.000000 -3.331924e-01      56.285972      43.931179   \n",
       "75%         2.000000 -9.913795e-02      59.104875      82.879993   \n",
       "max         2.000000  9.180839e+01      68.959510     136.255260   \n",
       "\n",
       "                   y  \n",
       "count  424401.000000  \n",
       "mean        0.801699  \n",
       "std         0.398720  \n",
       "min         0.000000  \n",
       "25%         1.000000  \n",
       "50%         1.000000  \n",
       "75%         1.000000  \n",
       "max         1.000000  \n",
       "\n",
       "[8 rows x 25 columns]"
      ]
     },
     "execution_count": 10,
     "metadata": {},
     "output_type": "execute_result"
    }
   ],
   "source": [
    "'''result table'''\n",
    "df.describe()"
   ]
  },
  {
   "cell_type": "code",
   "execution_count": 11,
   "metadata": {},
   "outputs": [],
   "source": [
    "'''model creation'''\n",
    "\n",
    "from sklearn.model_selection import train_test_split\n",
    "X_train, X_test, y_train, y_test = train_test_split(X, y, test_size = 0.4,\n",
    "                                                   random_state = 13)"
   ]
  },
  {
   "cell_type": "code",
   "execution_count": 12,
   "metadata": {},
   "outputs": [
    {
     "data": {
      "text/plain": [
       "KNeighborsClassifier(algorithm='auto', leaf_size=30, metric='minkowski',\n",
       "           metric_params=None, n_jobs=None, n_neighbors=5, p=2,\n",
       "           weights='uniform')"
      ]
     },
     "execution_count": 12,
     "metadata": {},
     "output_type": "execute_result"
    }
   ],
   "source": [
    "'''knn'''\n",
    "\n",
    "from sklearn.neighbors import KNeighborsClassifier\n",
    "\n",
    "knn = KNeighborsClassifier()\n",
    "knn.fit(X_train, y_train)"
   ]
  },
  {
   "cell_type": "code",
   "execution_count": 13,
   "metadata": {},
   "outputs": [],
   "source": [
    "knn_proba_train = knn.predict_proba(X_train)\n",
    "knn_proba_test = knn.predict_proba(X_test)"
   ]
  },
  {
   "cell_type": "code",
   "execution_count": 14,
   "metadata": {
    "scrolled": true
   },
   "outputs": [
    {
     "name": "stdout",
     "output_type": "stream",
     "text": [
      "auc_train = 0.940999207\n",
      "auc_test  = 0.857539950\n"
     ]
    }
   ],
   "source": [
    "knn_fpr_train, knn_tpr_train, _ = metrics.roc_curve(y_train, knn_proba_train[:,1])\n",
    "knn_auc_train = metrics.auc(knn_fpr_train, knn_tpr_train)\n",
    "knn_fpr_test, knn_tpr_test, _ = metrics.roc_curve(y_test, knn_proba_test[:,1])\n",
    "knn_auc_test = metrics.auc(knn_fpr_test, knn_tpr_test)\n",
    "print('auc_train = {:.9f}'.format(knn_auc_train))\n",
    "print('auc_test  = {:.9f}'.format(knn_auc_test))\n"
   ]
  },
  {
   "cell_type": "code",
   "execution_count": 15,
   "metadata": {},
   "outputs": [
    {
     "data": {
      "image/png": "[encoded data removed]",
      "text/plain": [
       "<Figure size 432x288 with 1 Axes>"
      ]
     },
     "metadata": {},
     "output_type": "display_data"
    }
   ],
   "source": [
    "'''roc-curve'''\n",
    "plt.figure()\n",
    "lw = 2\n",
    "plt.plot(knn_fpr_train, knn_tpr_train, color='red', label='ROC curve of train')\n",
    "plt.plot(knn_fpr_test, knn_tpr_test, color='green', label='ROC curve of test')\n",
    "plt.plot([0, 1], [0, 1], color='navy', lw=lw, linestyle='--')\n",
    "plt.xlim([-0.05, 1.0])\n",
    "plt.ylim([0.0, 1.05])\n",
    "plt.xlabel('False Positive Rate')\n",
    "plt.ylabel('True Positive Rate')\n",
    "plt.title('Knn')\n",
    "plt.legend(loc=\"lower right\")\n",
    "plt.show()"
   ]
  },
  {
   "cell_type": "code",
   "execution_count": 16,
   "metadata": {},
   "outputs": [
    {
     "data": {
      "text/plain": [
       "LogisticRegression(C=1.0, class_weight=None, dual=False, fit_intercept=True,\n",
       "          intercept_scaling=1, max_iter=100, multi_class='warn',\n",
       "          n_jobs=None, penalty='l2', random_state=None, solver='warn',\n",
       "          tol=0.0001, verbose=0, warm_start=False)"
      ]
     },
     "execution_count": 16,
     "metadata": {},
     "output_type": "execute_result"
    }
   ],
   "source": [
    "'''Logistic Regression'''\n",
    "from sklearn.linear_model import LogisticRegression\n",
    "lr = LogisticRegression()\n",
    "lr.fit(X_train, y_train)"
   ]
  },
  {
   "cell_type": "code",
   "execution_count": 17,
   "metadata": {},
   "outputs": [],
   "source": [
    "lr_proba_train = lr.predict_proba(X_train)\n",
    "lr_proba_test = lr.predict_proba(X_test)"
   ]
  },
  {
   "cell_type": "code",
   "execution_count": 18,
   "metadata": {},
   "outputs": [
    {
     "name": "stdout",
     "output_type": "stream",
     "text": [
      "auc_train = 0.772135747\n",
      "auc_test  = 0.775027590\n"
     ]
    }
   ],
   "source": [
    "lr_fpr_train, lr_tpr_train, _ = metrics.roc_curve(y_train, lr_proba_train[:,1])\n",
    "lr_auc_train = metrics.auc(lr_fpr_train, lr_tpr_train)\n",
    "lr_fpr_test, lr_tpr_test, _ = metrics.roc_curve(y_test, lr_proba_test[:,1])\n",
    "lr_auc_test = metrics.auc(lr_fpr_test, lr_tpr_test)\n",
    "print(\"auc_train = {:.9f}\".format(lr_auc_train))\n",
    "print(\"auc_test  = {:.9f}\".format(lr_auc_test))"
   ]
  },
  {
   "cell_type": "code",
   "execution_count": 19,
   "metadata": {},
   "outputs": [
    {
     "data": {
      "image/png": "[encoded data removed]",
      "text/plain": [
       "<Figure size 432x288 with 1 Axes>"
      ]
     },
     "metadata": {},
     "output_type": "display_data"
    }
   ],
   "source": [
    "'''roc-curve for logistic regression'''\n",
    "plt.figure()\n",
    "lw = 2\n",
    "plt.plot(lr_fpr_train, lr_tpr_train, color='red', label='ROC curve of train')\n",
    "plt.plot(lr_fpr_test, lr_tpr_test, color='green', label='ROC curve of test')\n",
    "plt.plot([0, 1], [0, 1], color='navy', lw=lw, linestyle='--')\n",
    "plt.xlim([-0.05, 1.0])\n",
    "plt.ylim([0.0, 1.05])\n",
    "plt.xlabel('False Positive Rate')\n",
    "plt.ylabel('True Positive Rate')\n",
    "plt.title('Logistic Regression')\n",
    "plt.legend(loc=\"lower right\")\n",
    "plt.show()"
   ]
  },
  {
   "cell_type": "code",
   "execution_count": 20,
   "metadata": {},
   "outputs": [
    {
     "data": {
      "text/plain": [
       "GradientBoostingClassifier(criterion='friedman_mse', init=None,\n",
       "              learning_rate=0.1, loss='deviance', max_depth=3,\n",
       "              max_features=None, max_leaf_nodes=None,\n",
       "              min_impurity_decrease=0.0, min_impurity_split=None,\n",
       "              min_samples_leaf=1, min_samples_split=2,\n",
       "              min_weight_fraction_leaf=0.0, n_estimators=100,\n",
       "              n_iter_no_change=None, presort='auto', random_state=11,\n",
       "              subsample=1.0, tol=0.0001, validation_fraction=0.1,\n",
       "              verbose=0, warm_start=False)"
      ]
     },
     "execution_count": 20,
     "metadata": {},
     "output_type": "execute_result"
    }
   ],
   "source": [
    "'''Gradient Boosting'''\n",
    "from sklearn.ensemble import GradientBoostingClassifier\n",
    "\n",
    "gbt = GradientBoostingClassifier(n_estimators = 100, random_state = 11)\n",
    "gbt.fit(X_train, y_train)"
   ]
  },
  {
   "cell_type": "code",
   "execution_count": 21,
   "metadata": {},
   "outputs": [],
   "source": [
    "gbt_proba_train = gbt.predict_proba(X_train)\n",
    "gbt_proba_test = gbt.predict_proba(X_test)"
   ]
  },
  {
   "cell_type": "code",
   "execution_count": 22,
   "metadata": {},
   "outputs": [
    {
     "name": "stdout",
     "output_type": "stream",
     "text": [
      "auc_gbt_train = 0.818611737\n",
      "auc_gbt_test  = 0.820871347\n"
     ]
    }
   ],
   "source": [
    "gbt_fpr_train, gbt_tpr_train, _ = metrics.roc_curve(y_train, gbt_proba_train[:, 1])\n",
    "gbt_auc_train = metrics.auc(gbt_fpr_train, gbt_tpr_train)\n",
    "gbt_fpr_test, gbt_tpr_test, _ = metrics.roc_curve(y_test, gbt_proba_test[:, 1])\n",
    "gbt_auc_test = metrics.auc(gbt_fpr_test, gbt_tpr_test)\n",
    "print(\"auc_gbt_train = {:.9f}\".format(gbt_auc_train))\n",
    "print(\"auc_gbt_test  = {:.9f}\".format(gbt_auc_test))"
   ]
  },
  {
   "cell_type": "code",
   "execution_count": 23,
   "metadata": {},
   "outputs": [
    {
     "data": {
      "image/png": "[encoded data removed]",
      "text/plain": [
       "<Figure size 432x288 with 1 Axes>"
      ]
     },
     "metadata": {},
     "output_type": "display_data"
    }
   ],
   "source": [
    "'''roc curve for gradient boosting'''\n",
    "plt.figure()\n",
    "lw = 2\n",
    "plt.plot(gbt_fpr_train, gbt_tpr_train, color='red', label='ROC curve of train')\n",
    "plt.plot(gbt_fpr_test, gbt_tpr_test, color='green', label='ROC curve of test')\n",
    "plt.plot([0, 1], [0, 1], color='navy', lw=lw, linestyle='--')\n",
    "plt.xlim([-0.05, 1.0])\n",
    "plt.ylim([0.0, 1.05])\n",
    "plt.xlabel('False Positive Rate')\n",
    "plt.ylabel('True Positive Rate')\n",
    "plt.title('GradientBoostingClassifier')\n",
    "plt.legend(loc=\"lower right\")\n",
    "plt.show()"
   ]
  },
  {
   "cell_type": "code",
   "execution_count": 24,
   "metadata": {},
   "outputs": [
    {
     "data": {
      "text/plain": [
       "RandomForestClassifier(bootstrap=True, class_weight=None, criterion='gini',\n",
       "            max_depth=None, max_features='auto', max_leaf_nodes=None,\n",
       "            min_impurity_decrease=0.0, min_impurity_split=None,\n",
       "            min_samples_leaf=1, min_samples_split=2,\n",
       "            min_weight_fraction_leaf=0.0, n_estimators=100, n_jobs=None,\n",
       "            oob_score=False, random_state=11, verbose=0, warm_start=False)"
      ]
     },
     "execution_count": 24,
     "metadata": {},
     "output_type": "execute_result"
    }
   ],
   "source": [
    "'''random forest'''\n",
    "from sklearn.ensemble import RandomForestClassifier\n",
    "\n",
    "rf = RandomForestClassifier(n_estimators=100,\n",
    "                                    random_state=11)\n",
    "rf.fit(X_train, y_train)"
   ]
  },
  {
   "cell_type": "code",
   "execution_count": 25,
   "metadata": {},
   "outputs": [],
   "source": [
    "rf_proba_train = rf.predict_proba(X_train)\n",
    "rf_proba_test = rf.predict_proba(X_test)"
   ]
  },
  {
   "cell_type": "code",
   "execution_count": 26,
   "metadata": {},
   "outputs": [
    {
     "name": "stdout",
     "output_type": "stream",
     "text": [
      "rf_auc_train = 0.985999342\n",
      "rf_auc_test  = 0.884618085\n"
     ]
    }
   ],
   "source": [
    "rf_fpr_train, rf_tpr_train, _ = metrics.roc_curve(y_train, rf_proba_train[:, 1])\n",
    "rf_auc_train = metrics.auc(rf_fpr_train, rf_tpr_train)\n",
    "rf_fpr_test, rf_tpr_test, _ = metrics.roc_curve(y_test, rf_proba_test[:, 1])\n",
    "rf_auc_test = metrics.auc(rf_fpr_test, rf_tpr_test)\n",
    "print(\"rf_auc_train = {:.9f}\".format(rf_auc_train))\n",
    "print(\"rf_auc_test  = {:.9f}\".format(rf_auc_test))"
   ]
  },
  {
   "cell_type": "code",
   "execution_count": 27,
   "metadata": {},
   "outputs": [
    {
     "data": {
      "image/png": "[encoded data removed]",
      "text/plain": [
       "<Figure size 432x288 with 1 Axes>"
      ]
     },
     "metadata": {},
     "output_type": "display_data"
    }
   ],
   "source": [
    "'''roc curve for random forest'''\n",
    "plt.figure()\n",
    "lw = 2\n",
    "plt.plot(rf_fpr_train, rf_tpr_train, color='red', label='ROC curve of train')\n",
    "plt.plot(rf_fpr_test, rf_tpr_test, color='green', label='ROC curve of test')\n",
    "plt.plot([0, 1], [0, 1], color='navy', lw=lw, linestyle='--')\n",
    "plt.xlim([-0.05, 1.0])\n",
    "plt.ylim([0.0, 1.05])\n",
    "plt.xlabel('False Positive Rate')\n",
    "plt.ylabel('True Positive Rate')\n",
    "plt.title('Random Forest')\n",
    "plt.legend(loc=\"lower right\")\n",
    "plt.show()"
   ]
  },
  {
   "cell_type": "code",
   "execution_count": 28,
   "metadata": {},
   "outputs": [
    {
     "name": "stdout",
     "output_type": "stream",
     "text": [
      "features importances\n",
      " 1. feature 'amount' (0.4413)\n",
      " 2. feature 'lon  ' (0.2034)\n",
      " 3. feature 'lat  ' (0.1936)\n",
      " 4. feature 'site_type' (0.0339)\n",
      " 5. feature 'fuel_id_e0f5182f9a3115e0488a74152f9cb66cbbe38224' (0.0290)\n",
      " 6. feature 'devision_id_bc70a7d61597cfe9af3a2af904f2ec292c3133ec' (0.0284)\n",
      " 7. feature 'month' (0.0226)\n",
      " 8. feature 'fuel_id_bd5b689b05dd83fa60590b93b4b0a0428a0fc43c' (0.0119)\n",
      " 9. feature 'fuel_id_afc06e4e2f1ae009c025834fd956c0d2848ef615' (0.0070)\n",
      "10. feature 'devision_id_1917d21be2460e969a9f584e23ac7fb4865c6a84' (0.0050)\n",
      "11. feature 'devision_id_798edca8bc5f55d752d9f0c5f3f33c9bcda1d0bf' (0.0033)\n",
      "12. feature 'devision_id_3b5d035402b5d5d1995cddb43d58128383d68f66' (0.0033)\n",
      "13. feature 'devision_id_53f32719393e7ad9024f9764a4b84f5bcfb4b48a' (0.0031)\n",
      "14. feature 'devision_id_ef972f02930169a9ce1236ea538662dc207884fe' (0.0030)\n",
      "15. feature 'devision_id_9646360c04da5b8ea896bc818a02a23c704caa77' (0.0022)\n",
      "16. feature 'fuel_id_9b9b13c1c5ac5dbb27acdbad9a860e3874d380ed' (0.0018)\n",
      "17. feature 'devision_id_caee6db7873c16b36bdbbf3794cdcc35d89f4512' (0.0018)\n",
      "18. feature 'fuel_id_51290d0d7dc09191bab25e59a6575c246336667b' (0.0017)\n",
      "19. feature 'devision_id_eccda6f794a5be5803fed5d8513fa5fa19ccd3ef' (0.0016)\n",
      "20. feature 'devision_id_c754d9697c0cb92fafd548756d4c954c20a3149b' (0.0015)\n",
      "21. feature 'fuel_id_219a923c8bc97a95585464d6f4b62b6165cc132a' (0.0005)\n",
      "22. feature 'fuel_id_ada0e5d61f7f84e08cac1087c7112ddc0a082444' (0.0001)\n",
      "23. feature 'fuel_id_684a604b71f50a3c4739c1da1a514455d8256d00' (0.0000)\n",
      "24. feature 'fuel_id_4e8e035f56691077c68b3eab775de10b720e5ffe' (0.0000)\n"
     ]
    }
   ],
   "source": [
    "'''try to get main features'''\n",
    "\n",
    "importances = rf.feature_importances_\n",
    "indices = np.argsort(importances)[::-1]\n",
    "\n",
    "print('features importances')\n",
    "for f, idx in enumerate(indices):\n",
    "    print(\"{:2d}. feature '{:5s}' ({:.4f})\".format(f + 1, features_name[idx], importances[idx]))"
   ]
  },
  {
   "cell_type": "code",
   "execution_count": 29,
   "metadata": {},
   "outputs": [
    {
     "data": {
      "image/png": "[encoded data removed]",
      "text/plain": [
       "<Figure size 576x576 with 1 Axes>"
      ]
     },
     "metadata": {},
     "output_type": "display_data"
    }
   ],
   "source": [
    "d_first = 10\n",
    "plt.figure(figsize=(8, 8))\n",
    "plt.title(\"Feautre importances\")\n",
    "plt.bar(range(d_first), importances[indices[:d_first]], align='center')\n",
    "plt.xticks(range(d_first), np.array(features_name)[indices[:d_first]], rotation=90)\n",
    "plt.xlim([-1, d_first]);"
   ]
  },
  {
   "cell_type": "code",
   "execution_count": 30,
   "metadata": {},
   "outputs": [],
   "source": [
    "from sklearn.model_selection import GridSearchCV\n",
    "\n",
    "samples_array = [2, 3, 10]\n",
    "max_features = [3, 5, 7, 10]\n",
    "rf = RandomForestClassifier(n_estimators = 100,\n",
    "                                    random_state = 11)\n",
    "grid = GridSearchCV(rf, param_grid={'min_samples_split': samples_array,\n",
    "                                    'max_features': max_features})\n",
    "grid.fit(X_train, y_train)\n",
    "print('CV_error', 1 - grid.best_score_)\n",
    "print('min_samples_split', grid.best_estimator_.min_samples_split)\n",
    "print('max_features', grid.best_estimator_.max_features)"
   ]
  },
  {
   "cell_type": "code",
   "execution_count": 30,
   "metadata": {},
   "outputs": [
    {
     "name": "stdout",
     "output_type": "stream",
     "text": [
      "rf_auc_train = 0.971112211\n",
      "rf_auc_test = 0.899079193\n"
     ]
    }
   ],
   "source": [
    "'''Launch with optimal parameters'''\n",
    "optimal_min_test_split = 10\n",
    "optimal_max_features = 10\n",
    "\n",
    "rf = RandomForestClassifier(n_estimators = 100,\n",
    "                              random_state = 11,\n",
    "                              min_samples_split = optimal_min_test_split,\n",
    "                              max_features = optimal_max_features)\n",
    "\n",
    "rf.fit(X_train, y_train)\n",
    "rf_proba_train = rf.predict_proba(X_train)\n",
    "rf_fpr_train, rf_tpr_train, _ = metrics.roc_curve(y_train, rf_proba_train[:, 1])\n",
    "rf_auc_train = metrics.auc(rf_fpr_train, rf_tpr_train)\n",
    "rf_proba_test = rf.predict_proba(X_test)\n",
    "rf_fpr_test, rf_tpr_test, _ = metrics.roc_curve(y_test, rf_proba_test[:, 1])\n",
    "rf_auc_test = metrics.auc(rf_fpr_test, rf_tpr_test)\n",
    "print(\"rf_auc_train = {:.9f}\".format(rf_auc_train))\n",
    "print(\"rf_auc_test = {:.9f}\".format(rf_auc_test))"
   ]
  },
  {
   "cell_type": "code",
   "execution_count": 31,
   "metadata": {},
   "outputs": [
    {
     "data": {
      "image/png": "[encoded data removed]",
      "text/plain": [
       "<Figure size 432x288 with 1 Axes>"
      ]
     },
     "metadata": {},
     "output_type": "display_data"
    },
    {
     "name": "stdout",
     "output_type": "stream",
     "text": [
      "Random Forest       : 0.899079193\n",
      "KNN                 : 0.857539950\n",
      "Gradient Boosting   : 0.820871347\n",
      "Logistic Regression : 0.775027590\n"
     ]
    }
   ],
   "source": [
    "'''final result'''\n",
    "result_name = ['KNN', 'Logistic Regression', 'Gradient Boosting', 'Random Forest']\n",
    "res_tpr = [knn_tpr_test, lr_tpr_test, gbt_tpr_test, rf_tpr_test]\n",
    "res_fpr = [knn_fpr_test, lr_fpr_test, gbt_fpr_test, rf_fpr_test]\n",
    "res_auc = [knn_auc_test, lr_auc_test, gbt_auc_test, rf_auc_test]\n",
    "colors = ['red', 'green', 'orange', 'yellow']\n",
    "plt.figure()\n",
    "lw = 2\n",
    "result = dict(zip(result_name, res_auc))\n",
    "result = dict(sorted(result.items(), key = lambda x: x[1], reverse = True))\n",
    "for i in range(len(result_name)):\n",
    "    plt.plot(res_fpr[i], res_tpr[i], color = colors[i], label = 'ROC curve of ' + result_name[i])\n",
    "plt.plot([0, 1], [0, 1], color='navy', lw=lw, linestyle='--')\n",
    "plt.xlim([-0.05, 1.0])\n",
    "plt.ylim([0.0, 1.05])\n",
    "plt.xlabel('False Positive Rate')\n",
    "plt.ylabel('True Positive Rate')\n",
    "plt.title('Roc curve')\n",
    "plt.legend(loc=\"lower right\")\n",
    "plt.show()\n",
    "\n",
    "for i in result.keys():\n",
    "    print(\"{:20}: {:.9f}\".format(i, result[i]))"
   ]
  },
  {
   "cell_type": "code",
   "execution_count": 32,
   "metadata": {},
   "outputs": [],
   "source": [
    "'''predict test data'''\n",
    "current_data = pd.read_csv('test.csv')\n",
    "data = pd.read_csv('test.csv')"
   ]
  },
  {
   "cell_type": "code",
   "execution_count": 33,
   "metadata": {},
   "outputs": [],
   "source": [
    "'''doing the same things to prepare data'''\n",
    "binary_col = ['site_type', 'month']\n",
    "nonbinary_col = ['fuel_id', 'devision_id']\n",
    "data_nonbinary = pd.get_dummies(data[nonbinary_col])\n",
    "'''normalization of data_numerical'''\n",
    "data_numerical = data[['amount']]\n",
    "data_numerical = (data_numerical-data_numerical.mean())/data_numerical.std()\n",
    "bin_data = data[binary_col]\n",
    "nonbin_data = data[nonbinary_col]\n",
    "'''parse lat and long'''\n",
    "coord = ['lat', 'lon']\n",
    "coord_data = data[coord]\n",
    "coord_data = coord_data.apply(lambda x: pd.to_numeric(x.astype(str).str.replace(',', '.'), errors='coerce'))\n",
    "'''create result table'''\n",
    "df = pd.concat((data_nonbinary, bin_data, data_numerical, coord_data), axis = 1 )\n",
    "df = pd.DataFrame(df, dtype=float)"
   ]
  },
  {
   "cell_type": "code",
   "execution_count": 34,
   "metadata": {},
   "outputs": [],
   "source": [
    "'''create X and y tables'''\n",
    "X = df\n",
    "y = rf.predict(X)\n",
    "y = np.array(y, dtype = int)"
   ]
  },
  {
   "cell_type": "code",
   "execution_count": 35,
   "metadata": {},
   "outputs": [],
   "source": [
    "'''write result to csv'''\n",
    "y_df = pd.DataFrame(y, columns=['y'])\n",
    "result_df = pd.concat((current_data, y_df), axis = 1)\n",
    "result_df.to_csv('predict.csv', index=False)"
   ]
  }
 ],
 "metadata": {
  "kernelspec": {
   "display_name": "Python 3",
   "language": "python",
   "name": "python3"
  },
  "language_info": {
   "codemirror_mode": {
    "name": "ipython",
    "version": 3
   },
   "file_extension": ".py",
   "mimetype": "text/x-python",
   "name": "python",
   "nbconvert_exporter": "python",
   "pygments_lexer": "ipython3",
   "version": "3.6.3"
  }
 },
 "nbformat": 4,
 "nbformat_minor": 2
}
